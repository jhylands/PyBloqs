{
 "cells": [
  {
   "cell_type": "markdown",
   "metadata": {},
   "source": [
    "# Composable Blocks"
   ]
  },
  {
   "cell_type": "markdown",
   "metadata": {},
   "source": [
    "This is a simple illustration of the python API for Blocks.\n",
    "\n",
    "## What are Blocks?\n",
    "Blocks are composable layout elements for easily building HTML, PDF, PNG and JPG based reports.\n",
    "At the same time, all block constructs can be rendered in-line in IPython Notebooks.\n",
    "This has practical benefits like a single backtest function that can be used for quick analysis during research work in a notebook, but also directly injected into more formal reports with having to fumble around with intermediate formats.\n",
    "\n",
    "Practically all the functionality is based on `HTML` rendering.\n",
    "HTML is a declarative, tree based language that is easy to work with and fungible.\n",
    "Blocks are also declarative, composable into a tree and are meant to be dead simple.\n",
    "The match was thus quite natural.\n",
    "\n",
    "The blocks do not try to match the power and precision of latex.\n",
    "Such an undertaking would be not only out of the scope of a simple library, but would mean the reinvention of latex with all the gnarliness that comes with it."
   ]
  },
  {
   "cell_type": "markdown",
   "metadata": {},
   "source": [
    "## Imports & Data\n",
    "To get started with pybloqs, you will want to `import pybloqs`{l=python}. We'll also use `import numpy as np`{l=python} and `import pandas as pd`{l=python} in this document."
   ]
  },
  {
   "cell_type": "code",
   "execution_count": 1,
   "metadata": {
    "tags": [
     "hide-input"
    ]
   },
   "outputs": [],
   "source": [
    "%%capture\n",
    "from datetime import datetime\n",
    "\n",
    "import numpy as np\n",
    "import pandas as pd\n",
    "\n",
    "import pybloqs\n",
    "\n",
    "df = pd.DataFrame(\n",
    "    (np.random.rand(200, 4) - 0.5) / 10,\n",
    "    columns=list(\"ABCD\"),\n",
    "    index=pd.date_range(datetime(2000, 1, 1), periods=200),\n",
    ")\n",
    "\n",
    "df_cr = (df + 1).cumprod()\n",
    "\n",
    "a = df_cr.A\n",
    "b = df_cr.B\n",
    "c = df_cr.C\n",
    "c.name = \"C\""
   ]
  },
  {
   "cell_type": "markdown",
   "metadata": {},
   "source": [
    "## Individual blocks\n",
    "We start with the obligatory \"Hello World!\".\n",
    "\n",
    "Throughout we have highlighted the background of the blocks with colour `#eee` (light grey) to distinguish the output of the cell from the rest of this document.\n",
    "You can set `css` styles on your blocks by passing keyword arguments to `Block`."
   ]
  },
  {
   "cell_type": "code",
   "execution_count": 2,
   "metadata": {},
   "outputs": [
    {
     "data": {
      "text/html": [
       "<div class=\"pybloqs\" style=\"background:#eee\">\n",
       " Hello World!\n",
       "</div>\n"
      ],
      "text/plain": [
       "<pybloqs.block.text.Raw at 0x7767883a2ce0>"
      ]
     },
     "execution_count": 2,
     "metadata": {},
     "output_type": "execute_result"
    }
   ],
   "source": [
    "pybloqs.Block(\"Hello World!\", background=\"#eee\")"
   ]
  },
  {
   "cell_type": "markdown",
   "metadata": {},
   "source": [
    "Any `css` property can be used. Lets change the alignment and font weight."
   ]
  },
  {
   "cell_type": "code",
   "execution_count": 3,
   "metadata": {},
   "outputs": [
    {
     "data": {
      "text/html": [
       "<div class=\"pybloqs\" style=\"text-align:right;background:#eee;font-weight:bold\">\n",
       " Hello World!\n",
       "</div>\n"
      ],
      "text/plain": [
       "<pybloqs.block.text.Raw at 0x7767883a3b50>"
      ]
     },
     "execution_count": 3,
     "metadata": {},
     "output_type": "execute_result"
    }
   ],
   "source": [
    "pybloqs.Block(\"Hello World!\", text_align=\"right\", font_weight=\"bold\", background=\"#eee\")"
   ]
  },
  {
   "cell_type": "markdown",
   "metadata": {},
   "source": [
    "All blocks support a title. "
   ]
  },
  {
   "cell_type": "code",
   "execution_count": 4,
   "metadata": {},
   "outputs": [
    {
     "data": {
      "text/html": [
       "<div class=\"pybloqs\" style=\"background:#eee\">\n",
       " <H3 style=\"white-space: nowrap\">\n",
       "  Announcement\n",
       " </H3>\n",
       " Hello World!\n",
       "</div>\n"
      ],
      "text/plain": [
       "<pybloqs.block.text.Raw at 0x7767883a3430>"
      ]
     },
     "execution_count": 4,
     "metadata": {},
     "output_type": "execute_result"
    }
   ],
   "source": [
    "pybloqs.Block(\"Hello World!\", title=\"Announcement\", title_level=3, background=\"#eee\")"
   ]
  },
  {
   "cell_type": "markdown",
   "metadata": {},
   "source": [
    "We can pass a dataframe to `Block`"
   ]
  },
  {
   "cell_type": "code",
   "execution_count": 5,
   "metadata": {},
   "outputs": [
    {
     "data": {
      "text/html": [
       "<div class=\"pybloqs\" style=\"background:#eee\">\n",
       " <table border=\"0\" cellpadding=\"1\" cellspacing=\"0\" class=\"\" id=\"blox_table_id\" style=\"margin-left:auto; margin-right:auto; page-break-inside:avoid;\">\n",
       "  <colgroup>\n",
       "   <col style=\"\"/>\n",
       "   <col style=\"\"/>\n",
       "   <col style=\"\"/>\n",
       "   <col style=\"\"/>\n",
       "   <col style=\"\"/>\n",
       "  </colgroup>\n",
       "  <thead style=\"display:table-header-group;\">\n",
       "   <tr style=\"page-break-inside:avoid;\">\n",
       "    <th style=\"font-size:14px; background-color:rgb(255,255,255); text-align:left; vertical-align:baseline; font-weight:bold\">\n",
       "    </th>\n",
       "    <th colspan=\"1\" rowspan=\"1\" style=\"font-size:14px; background-color:rgb(255,255,255); text-align:left; vertical-align:baseline; font-weight:bold\">\n",
       "     A\n",
       "    </th>\n",
       "    <th colspan=\"1\" rowspan=\"1\" style=\"font-size:14px; background-color:rgb(255,255,255); text-align:left; vertical-align:baseline; font-weight:bold\">\n",
       "     B\n",
       "    </th>\n",
       "    <th colspan=\"1\" rowspan=\"1\" style=\"font-size:14px; background-color:rgb(255,255,255); text-align:left; vertical-align:baseline; font-weight:bold\">\n",
       "     C\n",
       "    </th>\n",
       "    <th colspan=\"1\" rowspan=\"1\" style=\"font-size:14px; background-color:rgb(255,255,255); text-align:left; vertical-align:baseline; font-weight:bold\">\n",
       "     D\n",
       "    </th>\n",
       "   </tr>\n",
       "  </thead>\n",
       "  <tbody>\n",
       "   <tr style=\"page-break-inside:avoid;\">\n",
       "    <td colspan=\"1\" rowspan=\"1\" style=\"font-size:14px; background-color:rgb(229,229,229); text-align:left; vertical-align:baseline; font-weight:bold\">\n",
       "     2000-01-01 00:00:00\n",
       "    </td>\n",
       "    <td style=\"font-size:14px; background-color:rgb(229,229,229); text-align:right\">\n",
       "     0.02\n",
       "    </td>\n",
       "    <td style=\"font-size:14px; background-color:rgb(229,229,229); text-align:right\">\n",
       "     -0.05\n",
       "    </td>\n",
       "    <td style=\"font-size:14px; background-color:rgb(229,229,229); text-align:right\">\n",
       "     0.04\n",
       "    </td>\n",
       "    <td style=\"font-size:14px; background-color:rgb(229,229,229); text-align:right\">\n",
       "     -0.02\n",
       "    </td>\n",
       "   </tr>\n",
       "   <tr style=\"page-break-inside:avoid;\">\n",
       "    <td colspan=\"1\" rowspan=\"1\" style=\"font-size:14px; background-color:rgb(255,255,255); text-align:left; vertical-align:baseline; font-weight:bold\">\n",
       "     2000-01-02 00:00:00\n",
       "    </td>\n",
       "    <td style=\"font-size:14px; background-color:rgb(255,255,255); text-align:right\">\n",
       "     0.02\n",
       "    </td>\n",
       "    <td style=\"font-size:14px; background-color:rgb(255,255,255); text-align:right\">\n",
       "     0.01\n",
       "    </td>\n",
       "    <td style=\"font-size:14px; background-color:rgb(255,255,255); text-align:right\">\n",
       "     0.00\n",
       "    </td>\n",
       "    <td style=\"font-size:14px; background-color:rgb(255,255,255); text-align:right\">\n",
       "     0.03\n",
       "    </td>\n",
       "   </tr>\n",
       "   <tr style=\"page-break-inside:avoid;\">\n",
       "    <td colspan=\"1\" rowspan=\"1\" style=\"font-size:14px; background-color:rgb(229,229,229); text-align:left; vertical-align:baseline; font-weight:bold\">\n",
       "     2000-01-03 00:00:00\n",
       "    </td>\n",
       "    <td style=\"font-size:14px; background-color:rgb(229,229,229); text-align:right\">\n",
       "     -0.00\n",
       "    </td>\n",
       "    <td style=\"font-size:14px; background-color:rgb(229,229,229); text-align:right\">\n",
       "     0.01\n",
       "    </td>\n",
       "    <td style=\"font-size:14px; background-color:rgb(229,229,229); text-align:right\">\n",
       "     -0.01\n",
       "    </td>\n",
       "    <td style=\"font-size:14px; background-color:rgb(229,229,229); text-align:right\">\n",
       "     -0.03\n",
       "    </td>\n",
       "   </tr>\n",
       "   <tr style=\"page-break-inside:avoid;\">\n",
       "    <td colspan=\"1\" rowspan=\"1\" style=\"font-size:14px; background-color:rgb(255,255,255); text-align:left; vertical-align:baseline; font-weight:bold\">\n",
       "     2000-01-04 00:00:00\n",
       "    </td>\n",
       "    <td style=\"font-size:14px; background-color:rgb(255,255,255); text-align:right\">\n",
       "     -0.00\n",
       "    </td>\n",
       "    <td style=\"font-size:14px; background-color:rgb(255,255,255); text-align:right\">\n",
       "     0.01\n",
       "    </td>\n",
       "    <td style=\"font-size:14px; background-color:rgb(255,255,255); text-align:right\">\n",
       "     0.00\n",
       "    </td>\n",
       "    <td style=\"font-size:14px; background-color:rgb(255,255,255); text-align:right\">\n",
       "     0.04\n",
       "    </td>\n",
       "   </tr>\n",
       "   <tr style=\"page-break-inside:avoid;\">\n",
       "    <td colspan=\"1\" rowspan=\"1\" style=\"font-size:14px; background-color:rgb(229,229,229); text-align:left; vertical-align:baseline; font-weight:bold\">\n",
       "     2000-01-05 00:00:00\n",
       "    </td>\n",
       "    <td style=\"font-size:14px; background-color:rgb(229,229,229); text-align:right\">\n",
       "     0.01\n",
       "    </td>\n",
       "    <td style=\"font-size:14px; background-color:rgb(229,229,229); text-align:right\">\n",
       "     -0.00\n",
       "    </td>\n",
       "    <td style=\"font-size:14px; background-color:rgb(229,229,229); text-align:right\">\n",
       "     0.02\n",
       "    </td>\n",
       "    <td style=\"font-size:14px; background-color:rgb(229,229,229); text-align:right\">\n",
       "     -0.04\n",
       "    </td>\n",
       "   </tr>\n",
       "  </tbody>\n",
       " </table>\n",
       "</div>\n"
      ],
      "text/plain": [
       "<pybloqs.block.table.HTMLJinjaTableBlock at 0x7767883a2470>"
      ]
     },
     "execution_count": 5,
     "metadata": {},
     "output_type": "execute_result"
    }
   ],
   "source": [
    "pybloqs.Block(df.head(), background=\"#eee\")"
   ]
  },
  {
   "cell_type": "markdown",
   "metadata": {},
   "source": [
    "Or matplotlib plots"
   ]
  },
  {
   "cell_type": "code",
   "execution_count": 6,
   "metadata": {},
   "outputs": [
    {
     "data": {
      "text/html": [
       "<div class=\"pybloqs\" style=\"background:#eee\">\n",
       " <img src=\"data:image/png;base64,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\" style=\"width:6.400in;height:4.800in\"/>\n",
       "</div>\n"
      ],
      "text/plain": [
       "<pybloqs.block.image.PlotBlock at 0x77673a403550>"
      ]
     },
     "execution_count": 6,
     "metadata": {},
     "output_type": "execute_result"
    }
   ],
   "source": [
    "pybloqs.Block(df.A.plot(), background=\"#eee\")"
   ]
  },
  {
   "cell_type": "markdown",
   "metadata": {},
   "source": [
    "Raw HTML output"
   ]
  },
  {
   "cell_type": "code",
   "execution_count": 7,
   "metadata": {},
   "outputs": [
    {
     "data": {
      "text/html": [
       "<div class=\"pybloqs\" style=\"background:#eee\">\n",
       " <i>\n",
       "  This\n",
       " </i>\n",
       " block has\n",
       " <code>\n",
       "  html\n",
       " </code>\n",
       "</div>\n"
      ],
      "text/plain": [
       "<pybloqs.block.text.Raw at 0x77673a172170>"
      ]
     },
     "execution_count": 7,
     "metadata": {},
     "output_type": "execute_result"
    }
   ],
   "source": [
    "pybloqs.Block(\"<i>This</i> block has <code>html</code>\", background=\"#eee\")"
   ]
  },
  {
   "cell_type": "markdown",
   "metadata": {},
   "source": [
    "## Composing blocks\n",
    "\n",
    "Pybloqs' power comes with its ability to _compose_ individual blocks into larger reports.\n",
    "\n",
    "There are a number of block types such as `VStack` and `HStack` you can use to do this."
   ]
  },
  {
   "cell_type": "code",
   "execution_count": 8,
   "metadata": {},
   "outputs": [
    {
     "data": {
      "text/html": [
       "<div class=\"pybloqs\" style=\"background:#eee\">\n",
       " <div>\n",
       "  <div class=\"pybloqs\" style=\"background:#eee\">\n",
       "   <H3 style=\"white-space: nowrap\">\n",
       "    Announcement\n",
       "   </H3>\n",
       "   Hello World!\n",
       "  </div>\n",
       " </div>\n",
       " <div>\n",
       "  <div class=\"pybloqs\" style=\"background:#eee\">\n",
       "   <b>\n",
       "    this text is bold\n",
       "   </b>\n",
       "  </div>\n",
       " </div>\n",
       "</div>\n"
      ],
      "text/plain": [
       "<pybloqs.block.layout.VStack at 0x7767883a34c0>"
      ]
     },
     "execution_count": 8,
     "metadata": {},
     "output_type": "execute_result"
    }
   ],
   "source": [
    "pybloqs.VStack(\n",
    "    [\n",
    "        pybloqs.Block(\"Hello World!\", title=\"Announcement\", title_level=3),\n",
    "        pybloqs.Block(\"<b>this text is bold</b>\"),\n",
    "    ],\n",
    "    background=\"#eee\",\n",
    ")"
   ]
  },
  {
   "cell_type": "markdown",
   "metadata": {},
   "source": [
    "In fact, the `pybloqs.Block` helper method, lets you pass in a list and it will vertically stack the blocks. Here we can even just pass in strings which will be \"blockified\" before being composed."
   ]
  },
  {
   "cell_type": "code",
   "execution_count": 9,
   "metadata": {},
   "outputs": [
    {
     "data": {
      "text/html": [
       "<div class=\"pybloqs\" style=\"background:#eee\">\n",
       " <div class=\"pybloqs-grid-row\">\n",
       "  <div class=\"pybloqs-grid-cell\" style=\"width:100.000000%;float:left;\">\n",
       "   <div class=\"pybloqs\" style=\"background:#eee\">\n",
       "    Block 0\n",
       "   </div>\n",
       "  </div>\n",
       " </div>\n",
       " <div class=\"pybloqs-grid-row\" style=\"clear:both\">\n",
       "  <div class=\"pybloqs-grid-cell\" style=\"width:100.000000%;float:left;\">\n",
       "   <div class=\"pybloqs\" style=\"background:#eee\">\n",
       "    Block 1\n",
       "   </div>\n",
       "  </div>\n",
       " </div>\n",
       " <div class=\"pybloqs-grid-row\" style=\"clear:both\">\n",
       "  <div class=\"pybloqs-grid-cell\" style=\"width:100.000000%;float:left;\">\n",
       "   <div class=\"pybloqs\" style=\"background:#eee\">\n",
       "    Block 2\n",
       "   </div>\n",
       "  </div>\n",
       " </div>\n",
       " <div class=\"pybloqs-grid-row\" style=\"clear:both\">\n",
       "  <div class=\"pybloqs-grid-cell\" style=\"width:100.000000%;float:left;\">\n",
       "   <div class=\"pybloqs\" style=\"background:#eee\">\n",
       "    Block 3\n",
       "   </div>\n",
       "  </div>\n",
       " </div>\n",
       " <div class=\"pybloqs-grid-row\" style=\"clear:both\">\n",
       "  <div class=\"pybloqs-grid-cell\" style=\"width:100.000000%;float:left;\">\n",
       "   <div class=\"pybloqs\" style=\"background:#eee\">\n",
       "    Block 4\n",
       "   </div>\n",
       "  </div>\n",
       " </div>\n",
       " <div class=\"pybloqs-grid-row\" style=\"clear:both\">\n",
       "  <div class=\"pybloqs-grid-cell\" style=\"width:100.000000%;float:left;\">\n",
       "   <div class=\"pybloqs\" style=\"background:#eee\">\n",
       "    Block 5\n",
       "   </div>\n",
       "  </div>\n",
       " </div>\n",
       " <div class=\"pybloqs-grid-row\" style=\"clear:both\">\n",
       "  <div class=\"pybloqs-grid-cell\" style=\"width:100.000000%;float:left;\">\n",
       "   <div class=\"pybloqs\" style=\"background:#eee\">\n",
       "    Block 6\n",
       "   </div>\n",
       "  </div>\n",
       " </div>\n",
       " <div class=\"pybloqs-grid-row\" style=\"clear:both\">\n",
       "  <div class=\"pybloqs-grid-cell\" style=\"width:100.000000%;float:left;\">\n",
       "   <div class=\"pybloqs\" style=\"background:#eee\">\n",
       "    Block 7\n",
       "   </div>\n",
       "  </div>\n",
       " </div>\n",
       " <div style=\"clear:both\">\n",
       " </div>\n",
       "</div>\n"
      ],
      "text/plain": [
       "<pybloqs.block.layout.Grid at 0x776739fd4a90>"
      ]
     },
     "execution_count": 9,
     "metadata": {},
     "output_type": "execute_result"
    }
   ],
   "source": [
    "pybloqs.Block([f\"Block {i}\" for i in range(8)], background=\"#eee\")"
   ]
  },
  {
   "cell_type": "markdown",
   "metadata": {},
   "source": [
    "We can split the list into multiple columns:"
   ]
  },
  {
   "cell_type": "code",
   "execution_count": 10,
   "metadata": {},
   "outputs": [
    {
     "data": {
      "text/html": [
       "<div class=\"pybloqs\" style=\"background:#eee\">\n",
       " <div class=\"pybloqs-grid-row\">\n",
       "  <div class=\"pybloqs-grid-cell\" style=\"width:25.000000%;float:left;\">\n",
       "   <div class=\"pybloqs\" style=\"background:#eee\">\n",
       "    Block 0\n",
       "   </div>\n",
       "  </div>\n",
       "  <div class=\"pybloqs-grid-cell\" style=\"width:25.000000%;float:left;\">\n",
       "   <div class=\"pybloqs\" style=\"background:#eee\">\n",
       "    Block 1\n",
       "   </div>\n",
       "  </div>\n",
       "  <div class=\"pybloqs-grid-cell\" style=\"width:25.000000%;float:left;\">\n",
       "   <div class=\"pybloqs\" style=\"background:#eee\">\n",
       "    Block 2\n",
       "   </div>\n",
       "  </div>\n",
       "  <div class=\"pybloqs-grid-cell\" style=\"width:25.000000%;float:left;\">\n",
       "   <div class=\"pybloqs\" style=\"background:#eee\">\n",
       "    Block 3\n",
       "   </div>\n",
       "  </div>\n",
       " </div>\n",
       " <div class=\"pybloqs-grid-row\" style=\"clear:both\">\n",
       "  <div class=\"pybloqs-grid-cell\" style=\"width:25.000000%;float:left;\">\n",
       "   <div class=\"pybloqs\" style=\"background:#eee\">\n",
       "    Block 4\n",
       "   </div>\n",
       "  </div>\n",
       "  <div class=\"pybloqs-grid-cell\" style=\"width:25.000000%;float:left;\">\n",
       "   <div class=\"pybloqs\" style=\"background:#eee\">\n",
       "    Block 5\n",
       "   </div>\n",
       "  </div>\n",
       "  <div class=\"pybloqs-grid-cell\" style=\"width:25.000000%;float:left;\">\n",
       "   <div class=\"pybloqs\" style=\"background:#eee\">\n",
       "    Block 6\n",
       "   </div>\n",
       "  </div>\n",
       "  <div class=\"pybloqs-grid-cell\" style=\"width:25.000000%;float:left;\">\n",
       "   <div class=\"pybloqs\" style=\"background:#eee\">\n",
       "    Block 7\n",
       "   </div>\n",
       "  </div>\n",
       " </div>\n",
       " <div style=\"clear:both\">\n",
       " </div>\n",
       "</div>\n"
      ],
      "text/plain": [
       "<pybloqs.block.layout.Grid at 0x77673a1721a0>"
      ]
     },
     "execution_count": 10,
     "metadata": {},
     "output_type": "execute_result"
    }
   ],
   "source": [
    "pybloqs.Block([f\"Block {i}\" for i in range(8)], cols=4, background=\"#eee\")"
   ]
  },
  {
   "cell_type": "markdown",
   "metadata": {},
   "source": [
    "Layout styling is cascading - styles will cascade from parent blocks to child blocks by default. This behavior can be disabled by setting *inherit_cfg* to false on the child blocks, or simply specifying the desired settings explicitly."
   ]
  },
  {
   "cell_type": "code",
   "execution_count": 11,
   "metadata": {},
   "outputs": [
    {
     "data": {
      "text/html": [
       "<div class=\"pybloqs\" style=\"text-align:right;background:#eee\">\n",
       " <div class=\"pybloqs-grid-row\">\n",
       "  <div class=\"pybloqs-grid-cell\" style=\"width:25.000000%;float:left;\">\n",
       "   <div class=\"pybloqs\" style=\"text-align:right;background:#eee\">\n",
       "    Block 0\n",
       "   </div>\n",
       "  </div>\n",
       "  <div class=\"pybloqs-grid-cell\" style=\"width:25.000000%;float:left;\">\n",
       "   <div class=\"pybloqs\" style=\"text-align:right;background:#eee\">\n",
       "    Block 1\n",
       "   </div>\n",
       "  </div>\n",
       "  <div class=\"pybloqs-grid-cell\" style=\"width:25.000000%;float:left;\">\n",
       "   <div class=\"pybloqs\" style=\"text-align:right;background:#eee\">\n",
       "    Block 2\n",
       "   </div>\n",
       "  </div>\n",
       "  <div class=\"pybloqs-grid-cell\" style=\"width:25.000000%;float:left;\">\n",
       "   <div class=\"pybloqs\" style=\"text-align:right;background:#eee\">\n",
       "    Block 3\n",
       "   </div>\n",
       "  </div>\n",
       " </div>\n",
       " <div class=\"pybloqs-grid-row\" style=\"clear:both\">\n",
       "  <div class=\"pybloqs-grid-cell\" style=\"width:25.000000%;float:left;\">\n",
       "   <div class=\"pybloqs\" style=\"text-align:right;background:#eee\">\n",
       "    Block 4\n",
       "   </div>\n",
       "  </div>\n",
       "  <div class=\"pybloqs-grid-cell\" style=\"width:25.000000%;float:left;\">\n",
       "   <div class=\"pybloqs\" style=\"text-align:right;background:#eee\">\n",
       "    Block 5\n",
       "   </div>\n",
       "  </div>\n",
       "  <div class=\"pybloqs-grid-cell\" style=\"width:25.000000%;float:left;\">\n",
       "   <div class=\"pybloqs\" style=\"text-align:right;background:#eee\">\n",
       "    Block 6\n",
       "   </div>\n",
       "  </div>\n",
       "  <div class=\"pybloqs-grid-cell\" style=\"width:25.000000%;float:left;\">\n",
       "   <div class=\"pybloqs\" style=\"text-align:right;background:#eee\">\n",
       "    Block 7\n",
       "   </div>\n",
       "  </div>\n",
       " </div>\n",
       " <div style=\"clear:both\">\n",
       " </div>\n",
       "</div>\n"
      ],
      "text/plain": [
       "<pybloqs.block.layout.Grid at 0x776739fd58a0>"
      ]
     },
     "execution_count": 11,
     "metadata": {},
     "output_type": "execute_result"
    }
   ],
   "source": [
    "pybloqs.Block(\n",
    "    [f\"Block {i}\" for i in range(8)], cols=4, text_align=\"right\", background=\"#eee\"\n",
    ")"
   ]
  },
  {
   "cell_type": "markdown",
   "metadata": {},
   "source": [
    "Using specific block types is simple as well. As an example - the Paragraph block:"
   ]
  },
  {
   "cell_type": "code",
   "execution_count": 12,
   "metadata": {},
   "outputs": [
    {
     "data": {
      "text/html": [
       "<div class=\"pybloqs\" style=\"text-align:right;background:#eee\">\n",
       " <div class=\"pybloqs-grid-row\">\n",
       "  <div class=\"pybloqs-grid-cell\" style=\"width:100.000000%;float:left;\">\n",
       "   <p class=\"pybloqs\" style=\"text-align:right;background:#eee\">\n",
       "    <div class=\"pybloqs\" style=\"text-align:right;background:#eee\">\n",
       "     First paragraph.\n",
       "    </div>\n",
       "   </p>\n",
       "  </div>\n",
       " </div>\n",
       " <div class=\"pybloqs-grid-row\" style=\"clear:both\">\n",
       "  <div class=\"pybloqs-grid-cell\" style=\"width:100.000000%;float:left;\">\n",
       "   <p class=\"pybloqs\" style=\"text-align:right;background:#eee\">\n",
       "    <div class=\"pybloqs\" style=\"text-align:right;background:#eee\">\n",
       "     Second paragraph.\n",
       "    </div>\n",
       "   </p>\n",
       "  </div>\n",
       " </div>\n",
       " <div class=\"pybloqs-grid-row\" style=\"clear:both\">\n",
       "  <div class=\"pybloqs-grid-cell\" style=\"width:100.000000%;float:left;\">\n",
       "   <p class=\"pybloqs\" style=\"text-align:right;background:#eee\">\n",
       "    <div class=\"pybloqs\" style=\"text-align:right;background:#eee\">\n",
       "     Third paragraph.\n",
       "    </div>\n",
       "   </p>\n",
       "  </div>\n",
       " </div>\n",
       " <div style=\"clear:both\">\n",
       " </div>\n",
       "</div>\n"
      ],
      "text/plain": [
       "<pybloqs.block.layout.Grid at 0x776739fd69b0>"
      ]
     },
     "execution_count": 12,
     "metadata": {},
     "output_type": "execute_result"
    }
   ],
   "source": [
    "pybloqs.Block(\n",
    "    [\n",
    "        pybloqs.Paragraph(\"First paragraph.\"),\n",
    "        pybloqs.Paragraph(\"Second paragraph.\"),\n",
    "        pybloqs.Paragraph(\"Third paragraph.\"),\n",
    "    ],\n",
    "    text_align=\"right\",\n",
    "    background=\"#eee\",\n",
    ")"
   ]
  },
  {
   "cell_type": "markdown",
   "metadata": {},
   "source": [
    "The Pre block preserves whitespace formatting and is rendered using a fixed width font. Useful for rendering code-like text."
   ]
  },
  {
   "cell_type": "code",
   "execution_count": 13,
   "metadata": {},
   "outputs": [
    {
     "data": {
      "text/html": [
       "<pre class=\"pybloqs\">\n",
       "some:\n",
       "  example:\n",
       "    yaml: [1,2,3]\n",
       "  data: \"text\"\n",
       "</pre>\n"
      ],
      "text/plain": [
       "<pybloqs.block.text.Pre at 0x776788375d20>"
      ]
     },
     "execution_count": 13,
     "metadata": {},
     "output_type": "execute_result"
    }
   ],
   "source": [
    "pybloqs.Pre(\"\"\"\n",
    "some:\n",
    "  example:\n",
    "    yaml: [1,2,3]\n",
    "  data: \"text\"\n",
    "\"\"\")"
   ]
  },
  {
   "cell_type": "markdown",
   "metadata": {},
   "source": [
    "Creating custom blocks is trivial. For the majority of the cases, one can just inherit from the Container block, which has most of the plumbing already in place:"
   ]
  },
  {
   "cell_type": "code",
   "execution_count": 15,
   "metadata": {},
   "outputs": [
    {
     "data": {
      "text/html": [
       "<div class=\"pybloqs\">\n",
       " THIS HERE TEXT SHOULD LOOK LIKE SHOUTING!\n",
       "</div>\n"
      ],
      "text/plain": [
       "<__main__.Capitalize at 0x77673638b1c0>"
      ]
     },
     "execution_count": 15,
     "metadata": {},
     "output_type": "execute_result"
    }
   ],
   "source": [
    "class Capitalize(pybloqs.Raw):\n",
    "    def __init__(self, contents, **kwargs):\n",
    "        # Stringify and capitalize\n",
    "        contents = str(contents).upper()\n",
    "\n",
    "        super().__init__(contents, **kwargs)\n",
    "\n",
    "\n",
    "Capitalize(\"this here text should look like shouting!\")"
   ]
  },
  {
   "cell_type": "code",
   "execution_count": 16,
   "metadata": {},
   "outputs": [
    {
     "data": {
      "text/plain": [
       "\"Please create ~/.pybloqs.cfg with entry for 'smtp_server'. See README.md and pybloqs/config.py for details.\""
      ]
     },
     "metadata": {},
     "output_type": "display_data"
    }
   ],
   "source": [
    "# Emails a block (or a report consisting of many blocks).\n",
    "# The emailing is independent of previous reports being\n",
    "# saved (e.g. there is no need to call save before emailing).\n",
    "from smtplib import SMTPServerDisconnected\n",
    "\n",
    "try:\n",
    "    pybloqs.Block(\"\").email()\n",
    "except SMTPServerDisconnected:\n",
    "    display(\n",
    "        \"Please create ~/.pybloqs.cfg with entry for 'smtp_server'. See README.md and pybloqs/config.py for details.\"\n",
    "    )"
   ]
  },
  {
   "cell_type": "markdown",
   "metadata": {},
   "source": [
    "## Page break"
   ]
  },
  {
   "cell_type": "code",
   "execution_count": 17,
   "metadata": {},
   "outputs": [
    {
     "name": "stderr",
     "output_type": "stream",
     "text": [
      "Loading pages (1/6)\n",
      "Counting pages (2/6)                                               \n",
      "Resolving links (4/6)                                                       \n",
      "Loading headers and footers (5/6)                                           \n",
      "Printing pages (6/6)\n",
      "Done                                                                      \n"
     ]
    },
    {
     "data": {
      "text/plain": [
       "'two_page_report.pdf'"
      ]
     },
     "execution_count": 17,
     "metadata": {},
     "output_type": "execute_result"
    }
   ],
   "source": [
    "blocks = [\n",
    "    pybloqs.Block(\"First page\", styles={\"page-break-after\": \"always\"}),\n",
    "    pybloqs.Block(\"Second page\"),\n",
    "]\n",
    "r = pybloqs.VStack(blocks)\n",
    "r.save(\"two_page_report.pdf\")"
   ]
  },
  {
   "cell_type": "code",
   "execution_count": null,
   "metadata": {},
   "outputs": [],
   "source": []
  }
 ],
 "metadata": {
  "kernelspec": {
   "display_name": "Python 3",
   "language": "python",
   "name": "python3"
  },
  "language_info": {
   "codemirror_mode": {
    "name": "ipython",
    "version": 3
   },
   "file_extension": ".py",
   "mimetype": "text/x-python",
   "name": "python",
   "nbconvert_exporter": "python",
   "pygments_lexer": "ipython3",
   "version": "3.10.12"
  }
 },
 "nbformat": 4,
 "nbformat_minor": 1
}
