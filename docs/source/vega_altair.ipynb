{
 "cells": [
  {
   "cell_type": "markdown",
   "id": "28c3302a-7b36-4ab0-9697-d1f812cb2777",
   "metadata": {},
   "source": [
    "## Vega-Altair Charts Integration\n",
    "\n",
    "PyBloqs also supports altair visualization. Vega-Altair is a Vega-Altair is a declarative visualisation library with a simple, friendly and consistent API, built on top of the powerful Vega-Lite grammar.\n",
    "You can find its user guide [here](https://altair-viz.github.io/user_guide/data.html#user-guide-data)\n",
    "\n",
    "Similarly to the other interactive plots, this will be rendered in HTML and will rely on your browser's CSS and JS capabilities to provide interactivity."
   ]
  },
  {
   "cell_type": "code",
   "execution_count": 1,
   "id": "95e7efce-9b37-49b5-8326-822f2021b3e9",
   "metadata": {
    "jupyter": {
     "source_hidden": true
    }
   },
   "outputs": [],
   "source": [
    "import numpy as np\n",
    "import pandas as pd\n",
    "\n",
    "x = np.random.uniform(-3, 3, size=40)\n",
    "y = np.sin(x)\n",
    "data = pd.DataFrame({\"x\": x, \"y\": y})"
   ]
  },
  {
   "cell_type": "code",
   "execution_count": 2,
   "id": "097c4340-d0dd-4368-a58a-8d63b96dc787",
   "metadata": {},
   "outputs": [
    {
     "data": {
      "text/html": [
       "<div class=\"pybloqs\">\n",
       " <H3 style=\"white-space: nowrap\">\n",
       "  Sine Wave\n",
       " </H3>\n",
       " <style>\n",
       "  #vis.vega-embed {\n",
       "      width: 100%;\n",
       "      display: flex;\n",
       "    }\n",
       "\n",
       "    #vis.vega-embed details,\n",
       "    #vis.vega-embed details summary {\n",
       "      position: relative;\n",
       "    }\n",
       " </style>\n",
       " <script src=\"https://cdn.jsdelivr.net/npm/vega@5\" type=\"text/javascript\">\n",
       " </script>\n",
       " <script src=\"https://cdn.jsdelivr.net/npm/vega-lite@5.20.1\" type=\"text/javascript\">\n",
       " </script>\n",
       " <script src=\"https://cdn.jsdelivr.net/npm/vega-embed@6\" type=\"text/javascript\">\n",
       " </script>\n",
       " <div id=\"vis\">\n",
       " </div>\n",
       " <script>\n",
       "  (function(vegaEmbed) {\n",
       "      var spec = {\"config\": {\"view\": {\"continuousWidth\": 300, \"continuousHeight\": 300}}, \"data\": {\"name\": \"data-fe690aabfb969552621ced96947b86f8\"}, \"mark\": {\"type\": \"point\"}, \"encoding\": {\"x\": {\"field\": \"x\", \"type\": \"quantitative\"}, \"y\": {\"field\": \"y\", \"type\": \"quantitative\"}}, \"$schema\": \"https://vega.github.io/schema/vega-lite/v5.20.1.json\", \"datasets\": {\"data-fe690aabfb969552621ced96947b86f8\": [{\"x\": 0.7243226497524855, \"y\": 0.6626282943090069}, {\"x\": 2.3387146043530533, \"y\": 0.7193582733561723}, {\"x\": 1.1371486607616497, \"y\": 0.9074391004802596}, {\"x\": -2.740506796304828, \"y\": -0.39041825332350005}, {\"x\": -1.3528050820694528, \"y\": -0.9763338500220823}, {\"x\": 1.2265335810880371, \"y\": 0.9413245337782563}, {\"x\": 1.3313836938452592, \"y\": 0.9714774259787284}, {\"x\": 2.134233665725457, \"y\": 0.8454242423301792}, {\"x\": 2.039870209416425, \"y\": 0.8919873316486431}, {\"x\": -1.6672204338573164, \"y\": -0.995354796569258}, {\"x\": -2.914541129092247, \"y\": -0.22510570522007986}, {\"x\": 2.9179878893405586, \"y\": 0.22174607782657374}, {\"x\": -2.7285957006843344, \"y\": -0.4013561016858551}, {\"x\": 2.4424509192644894, \"y\": 0.6435610122505845}, {\"x\": -2.2813380281343187, \"y\": -0.7580086655139531}, {\"x\": -0.9681896583842278, \"y\": -0.8238609769170414}, {\"x\": -2.8294082573983546, \"y\": -0.3071381808055336}, {\"x\": -1.9611019748940075, \"y\": -0.9247928127898825}, {\"x\": -2.4676398534897865, \"y\": -0.6240794179961751}, {\"x\": 0.6994895313290357, \"y\": 0.6438271753452453}, {\"x\": -2.6004518385053235, \"y\": -0.5151141438792151}, {\"x\": -2.8379406296752396, \"y\": -0.2990071398951614}, {\"x\": -1.5975686474116098, \"y\": -0.9996416428297538}, {\"x\": 2.38840655844076, \"y\": 0.6839665267113776}, {\"x\": 0.7271238593073437, \"y\": 0.6647236533041586}, {\"x\": -1.9316132150793472, \"y\": -0.9356087427508785}, {\"x\": 0.6092756207649126, \"y\": 0.5722735738491866}, {\"x\": 0.4866132771883698, \"y\": 0.4676349780525348}, {\"x\": -2.369980853157756, \"y\": -0.6972914626088896}, {\"x\": 2.2051949746685864, \"y\": 0.8054282594447288}, {\"x\": 2.490781837904507, \"y\": 0.6058316839645398}, {\"x\": -2.1139255530310725, \"y\": -0.8560956367927824}, {\"x\": 2.2982889395382466, \"y\": 0.7468441585663469}, {\"x\": -1.1292038457762563, \"y\": -0.9040722157704864}, {\"x\": -1.2446644015619461, \"y\": -0.9472886857292584}, {\"x\": -2.432181184177188, \"y\": -0.6513873389997085}, {\"x\": -2.2188262653418263, \"y\": -0.7972745073310159}, {\"x\": -0.5367520629300788, \"y\": -0.5113475008972527}, {\"x\": 0.8481147347486044, \"y\": 0.7500348274764732}, {\"x\": 1.6332553882143426, \"y\": 0.9980500668595658}]}};\n",
       "      var embedOpt = {\"mode\": \"vega-lite\"};\n",
       "\n",
       "      function showError(el, error){\n",
       "          el.innerHTML = ('<div style=\"color:red;\">'\n",
       "                          + '<p>JavaScript Error: ' + error.message + '</p>'\n",
       "                          + \"<p>This usually means there's a typo in your chart specification. \"\n",
       "                          + \"See the javascript console for the full traceback.</p>\"\n",
       "                          + '</div>');\n",
       "          throw error;\n",
       "      }\n",
       "      const el = document.getElementById('vis');\n",
       "      vegaEmbed(\"#vis\", spec, embedOpt)\n",
       "        .catch(error => showError(el, error));\n",
       "    })(vegaEmbed);\n",
       " </script>\n",
       "</div>\n"
      ],
      "text/plain": [
       "<pybloqs.block.altair.VegaAltairBlock at 0x1fb16748ce0>"
      ]
     },
     "execution_count": 2,
     "metadata": {},
     "output_type": "execute_result"
    }
   ],
   "source": [
    "import altair as alt\n",
    "\n",
    "chart = alt.Chart(data).mark_point().encode(x=\"x\", y=\"y\")\n",
    "\n",
    "from pybloqs.block.altair import VegaAltairBlock\n",
    "\n",
    "VegaAltairBlock(chart, title=\"Sine Wave\")"
   ]
  }
 ],
 "metadata": {
  "kernelspec": {
   "display_name": "Python 3 (ipykernel)",
   "language": "python",
   "name": "python3"
  },
  "language_info": {
   "codemirror_mode": {
    "name": "ipython",
    "version": 3
   },
   "file_extension": ".py",
   "mimetype": "text/x-python",
   "name": "python",
   "nbconvert_exporter": "python",
   "pygments_lexer": "ipython3",
   "version": "3.12.1"
  }
 },
 "nbformat": 4,
 "nbformat_minor": 5
}
