{
 "cells": [
  {
   "cell_type": "markdown",
   "id": "28c3302a-7b36-4ab0-9697-d1f812cb2777",
   "metadata": {},
   "source": [
    "## Vega-Altair Charts Integration\n",
    "\n",
    "PyBloqs also supports altair visualization. Vega-Altair is a Vega-Altair is a declarative visualisation library with a simple, friendly and consistent API, built on top of the powerful Vega-Lite grammar.\n",
    "You can find its user guide [here](https://altair-viz.github.io/user_guide/data.html#user-guide-data)\n",
    "\n",
    "Similarly to the other interactive plots, this will be rendered in HTML and will rely on your browser's CSS and JS capabilities to provide interactivity."
   ]
  },
  {
   "cell_type": "code",
   "execution_count": 15,
   "id": "097c4340-d0dd-4368-a58a-8d63b96dc787",
   "metadata": {},
   "outputs": [
    {
     "data": {
      "text/html": [
       "<div class=\"pybloqs\">\n",
       " <H3 style=\"white-space: nowrap\">\n",
       "  Sine Wave\n",
       " </H3>\n",
       " <style>\n",
       "  #vis.vega-embed {\n",
       "      width: 100%;\n",
       "      display: flex;\n",
       "    }\n",
       "\n",
       "    #vis.vega-embed details,\n",
       "    #vis.vega-embed details summary {\n",
       "      position: relative;\n",
       "    }\n",
       " </style>\n",
       " <script src=\"https://cdn.jsdelivr.net/npm/vega@5\" type=\"text/javascript\">\n",
       " </script>\n",
       " <script src=\"https://cdn.jsdelivr.net/npm/vega-lite@5.20.1\" type=\"text/javascript\">\n",
       " </script>\n",
       " <script src=\"https://cdn.jsdelivr.net/npm/vega-embed@6\" type=\"text/javascript\">\n",
       " </script>\n",
       " <div id=\"vis\">\n",
       " </div>\n",
       " <script>\n",
       "  (function(vegaEmbed) {\n",
       "      var spec = {\"config\": {\"view\": {\"continuousWidth\": 300, \"continuousHeight\": 300}}, \"data\": {\"name\": \"data-0403c816544f92b7618abcc57e7e48c4\"}, \"mark\": {\"type\": \"point\"}, \"encoding\": {\"x\": {\"field\": \"x\", \"type\": \"quantitative\"}, \"y\": {\"field\": \"y\", \"type\": \"quantitative\"}}, \"$schema\": \"https://vega.github.io/schema/vega-lite/v5.20.1.json\", \"datasets\": {\"data-0403c816544f92b7618abcc57e7e48c4\": [{\"x\": -2.2390888528869826, \"y\": -0.7848808401327944}, {\"x\": -2.907230104598458, \"y\": -0.23222300799942855}, {\"x\": 2.812014044242088, \"y\": 0.3236443462362557}, {\"x\": 2.007660761744985, \"y\": 0.9060827742808524}, {\"x\": 0.7582573547259468, \"y\": 0.687657267638905}, {\"x\": -2.3351631961647117, \"y\": -0.7218206792090002}, {\"x\": 0.33817402569208443, \"y\": 0.33176509134628995}, {\"x\": -0.29454179029888694, \"y\": -0.2903014035940205}, {\"x\": -2.1665700531942162, \"y\": -0.8277145705758661}, {\"x\": 0.9975094416771388, \"y\": 0.8401227220235691}, {\"x\": -2.3438819856703423, \"y\": -0.7157592194266621}, {\"x\": -2.116523255518219, \"y\": -0.8547502118775758}, {\"x\": -2.317990472728963, \"y\": -0.7335985650261597}, {\"x\": -2.4410454392883425, \"y\": -0.6446361233466438}, {\"x\": -2.842730340716601, \"y\": -0.29443314161974493}, {\"x\": -0.7476052859256166, \"y\": -0.6798846215848713}, {\"x\": 0.9269255735193886, \"y\": 0.7997781586608999}, {\"x\": -2.7751661451118723, \"y\": -0.3582814663069884}, {\"x\": -1.4052367952835552, \"y\": -0.9863262965844308}, {\"x\": -2.0071269369078144, \"y\": -0.9063085067059155}, {\"x\": 1.4882964686695948, \"y\": 0.9965988164634774}, {\"x\": 0.8877841908899189, \"y\": 0.7756751841290545}, {\"x\": -1.2013231709325662, \"y\": -0.9325177311770445}, {\"x\": -2.6100985536350416, \"y\": -0.5068218964705395}, {\"x\": -2.4203091713532427, \"y\": -0.6603490578943395}, {\"x\": 0.19857640273067423, \"y\": 0.19727390984785656}, {\"x\": -2.8890195926708397, \"y\": -0.24989620820363023}, {\"x\": 2.6373930190181243, \"y\": 0.48310682604581306}, {\"x\": 2.848836119198494, \"y\": 0.2885925675570852}, {\"x\": -2.0353554032992296, \"y\": -0.8940191988639632}, {\"x\": 1.4933410769243665, \"y\": 0.9970018414917674}, {\"x\": -2.1134144132938273, \"y\": -0.8563596908755735}, {\"x\": 1.230459299640625, \"y\": 0.9426422177823441}, {\"x\": 1.1484538548495422, \"y\": 0.9121312686259465}, {\"x\": 2.2276290342024865, \"y\": 0.7919301862181402}, {\"x\": -0.85321417713961, \"y\": -0.7533978235167625}, {\"x\": -2.274564925100477, \"y\": -0.7624089640813052}, {\"x\": 2.8718773882172997, \"y\": 0.2664570069328943}, {\"x\": 2.054203000562298, \"y\": 0.8854166478463809}, {\"x\": -1.93172729930373, \"y\": -0.9355684605231086}]}};\n",
       "      var embedOpt = {\"mode\": \"vega-lite\"};\n",
       "\n",
       "      function showError(el, error){\n",
       "          el.innerHTML = ('<div style=\"color:red;\">'\n",
       "                          + '<p>JavaScript Error: ' + error.message + '</p>'\n",
       "                          + \"<p>This usually means there's a typo in your chart specification. \"\n",
       "                          + \"See the javascript console for the full traceback.</p>\"\n",
       "                          + '</div>');\n",
       "          throw error;\n",
       "      }\n",
       "      const el = document.getElementById('vis');\n",
       "      vegaEmbed(\"#vis\", spec, embedOpt)\n",
       "        .catch(error => showError(el, error));\n",
       "    })(vegaEmbed);\n",
       " </script>\n",
       "</div>\n"
      ],
      "text/plain": [
       "<pybloqs.block.altair.VegaAltairBlock at 0x7f9fbea56b20>"
      ]
     },
     "execution_count": 15,
     "metadata": {},
     "output_type": "execute_result"
    }
   ],
   "source": [
    "import numpy as np\n",
    "import altair as alt\n",
    "\n",
    "x = np.random.uniform(-3, 3, size=40)\n",
    "y = np.sin(x)\n",
    "data = pd.DataFrame({'x': x, 'y': y})\n",
    "\n",
    "chart = alt.Chart(data).mark_point().encode(x='x', y='y')\n",
    "\n",
    "from pybloqs.block.altair import VegaAltairBlock\n",
    "\n",
    "VegaAltairBlock(chart, title='Sine Wave')"
   ]
  }
 ],
 "metadata": {
  "kernelspec": {
   "display_name": "Python 3 (ipykernel)",
   "language": "python",
   "name": "python3"
  },
  "language_info": {
   "codemirror_mode": {
    "name": "ipython",
    "version": 3
   },
   "file_extension": ".py",
   "mimetype": "text/x-python",
   "name": "python",
   "nbconvert_exporter": "python",
   "pygments_lexer": "ipython3",
   "version": "3.8.12"
  }
 },
 "nbformat": 4,
 "nbformat_minor": 5
}
